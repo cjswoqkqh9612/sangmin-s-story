{
 "cells": [
  {
   "cell_type": "code",
   "execution_count": 87,
   "metadata": {},
   "outputs": [],
   "source": [
    "import math\n",
    "def gcd(a, b):\n",
    "    while (b != 0):\n",
    "        temp = a % b\n",
    "        a = b\n",
    "        b = temp\n",
    "    return abs(a)\n",
    "class array:\n",
    "    def __init__(self,length,name = \"array_1\"):\n",
    "        # 배열 조건\n",
    "        self.attatch = []\n",
    "        self.same = []\n",
    "        # 조합 조건\n",
    "        self.overlap = 0\n",
    "        # 공통 조건\n",
    "        self.circle = 0\n",
    "        self.len = length\n",
    "        self.special_code = []\n",
    "        self.special_array = []\n",
    "        self.name = name\n",
    "    #배열 문제일시 해결법 제시\n",
    "    def make_solution(self):\n",
    "        if len(self.special_code):\n",
    "            print(\"if you plus special code, we can't make solution\")\n",
    "            print(\"----------------------------------------------\")\n",
    "        else:\n",
    "            print(\"okay wait...\")\n",
    "            print(\"조합과 관련된 특수 조건은 무시됩니다.\")\n",
    "            print(\"----------------------------------------------\")\n",
    "            print(\"solution of \" + self.name)\n",
    "            print(\"다음은 \" + \"원\" * self.circle + \"순열 문제입니다.\")\n",
    "            print(\"----------------------------------------------\")\n",
    "            if len(self.same) +  len(self.attatch):\n",
    "                print(\"주어진 추가조건으로는\")\n",
    "                if len(self.same):\n",
    "                    print(\"같은것이 있는 순열:\")\n",
    "                    print(str(self.same[0]) + \"개의 빨강공과\" + str(self.same[1]) + \"개의 파랑공을 배열하는 문제입니다.\")\n",
    "                if len(self.attatch):\n",
    "                    print(\"n번째와 t번째가 항상 붙어있어야 하는 순열:\")\n",
    "                    for i in range(len(self.attatch)):\n",
    "                        print(str(self.attatch[i][0]) + \" 와(과) \" + str(self.attatch[i][1]) + \"이 배열시 붙어있어야 합니다.\")\n",
    "                print(\"다음과 같습니다.\")\n",
    "                print(\"----------------------------------------------\")\n",
    "                if len(self.attatch):\n",
    "                        print(\"특정한 원소끼리 붙어있어야 하는 문제 유형은 다음과같이 해결합니다.\")\n",
    "                        print(\"특정한 원소두개를 하나의 원소로 취급하고 배열합니다.\")\n",
    "                        print(\"최종적으로 배열한후 두개의 원소가 위치가 바뀌는 경우를 카운팅하여 *2를 해줍니다.\")\n",
    "                        print(\"또한 원순열이므로 전체 길이(하나의 원소로 취급한후) 로 나누어 줍니다.\"*self.circle)\n",
    "                        print(\"따라서 (\" + str(self.len) + \"-\" + str(len(self.attatch)) + \")! \" +(\"/\" + str(self.len-len(self.attatch)) + \" \")*self.circle + \"* 2^\" + str(len(self.attatch)) + \"로 계산가능합니다\")\n",
    "                        print(\"정답은\" + str(math.factorial(self.len-len(self.attatch)-self.circle)*(2**(len(self.attatch)))))\n",
    "                if len(self.same):\n",
    "                    if self.circle:\n",
    "                        print(\"원순열에서 같은 것이 있는 순열은 비대칭 순열과 점대칭 순열을 나누어 생각해주어야 합니다.\")\n",
    "                        if gcd(self.same[0],self.same[1]) == 1:\n",
    "                            print(\"둘의 최대공약수가 1이므로 점대칭 순열은 고려하지 않아도 됩니다.\")\n",
    "                            print(\"따라서 다음 문제는 (\" + str(self.len)  + \"! / (\" + str(self.same[0]) +\"!\" + str(self.same[1]) +\"!)\" + \" / \" + str(self.len) +\" 처럼 계산이 가능합니다.\")\n",
    "                            print(\"정답은 \" + str(math.factorial(self.len-1) / (math.factorial(self.same[0]) * math.factorial(self.same[1]))) + \" 입니다\")\n",
    "                        else:\n",
    "                            print(\"둘의 최대공약수가 \" + str(gcd(self.same[0],self.same[1])) +\"이므로 점대칭 순열을 고려해야 됩니다.\")\n",
    "                            print(\"먼저 둘의 비대칭 순열을 구해보면\")\n",
    "                            g = gcd(self.same[0],self.same[1])\n",
    "                            print(\"(\" + str(self.len)+\"! / (\" + str(self.same[0]) +\"!\" + str(self.same[1]) +\"!) \" + \"- \" + str(self.len/g)+\"! / (\" + str(self.same[0]/g) +\"!\" + str(self.same[1]/g) +\"!)\" +\")\" + \" / \" + str(self.len) +\" 처럼 계산이 가능합니다.\")\n",
    "                            print(\"점대칭 순열을 구해보면\")\n",
    "                            print(str(self.len/g)+\"! / (\" + str(self.same[0]/g) +\"!\" + str(self.same[1]/g) +\"!) \" + \" / \" + str(g) + \"입니다.\")\n",
    "                            print(\"따라서 답은 둘의 합이므로 \" + str(((math.factorial(self.len) / (math.factorial(self.same[0]) * math.factorial(self.same[1]))) - (math.factorial(self.len/g) / (math.factorial(self.same[0]/g) * math.factorial(self.same[1]/g))) )/self.len) \\\n",
    "                                  + \"+\" + str((math.factorial(self.len/g) / (math.factorial(self.same[0]/g) * math.factorial(self.same[1]/g)))/g) + \"이므로\")\n",
    "                            print (\"정답은\" + str((((math.factorial(self.len) / (math.factorial(self.same[0]) * math.factorial(self.same[1]))) - (math.factorial(self.len/g) / (math.factorial(self.same[0]/g) * math.factorial(self.same[1]/g))) )/self.len))+str((math.factorial(self.len/g) / (math.factorial(self.same[0]/g) * math.factorial(self.same[1]/g)))/g) +\"입니다.\")\n",
    "                    else:\n",
    "                        print(\"같이 있는 순열은 대부분은 n!/(a!*b!)의 식으로 계산합니다.\")\n",
    "                        print(\"따라서 다음 문제도 \" + str(self.len) + \"! / (\" + str(self.same[0]) +\"!\" + str(self.same[1]) +\"!) \" +\" 처럼 계산이 가능합니다.\")\n",
    "                        print(\"정답은 \" + str(math.factorial(self.len) / (math.factorial(self.same[0]) * math.factorial(self.same[1]))) + \" 입니다\")\n",
    "            \n",
    "            else:\n",
    "                print(\"주어진 추가적인 특수조건은 없습니다.\")\n",
    "                if self.circle:\n",
    "                    plus_var = 1\n",
    "                    #if len(self.same):\n",
    "                    #    plus_var = find_중복_shape(self.len,self.circle)\n",
    "                print(\"따라서 다음과 같이 \" + str(self.len) + \"!\" + (\"/\" + str(self.len)) *self.circle +\"의 식으로 계산하면\")\n",
    "                print(\"정답은 \" + str(self.len-self.circle) + \"!\" + \"=\" + str(math.factorial(self.len-self.circle)) + \"이 나오게 됩니다.\")\n",
    "    #조합 문제일시 해결법 제시\n",
    "    def make_solution_choose(self, ver):\n",
    "        if self.circle:\n",
    "            print(\"원순열에서는 선택을 실행할 수 없습니다.\")\n",
    "        else:\n",
    "            print(\"okay wait...\")\n",
    "            print(\"----------------------------------------------\")\n",
    "            print(\"solution of \" + self.name)\n",
    "            print(\"배열과 관련된 특수 조건은 무시됩니다.\")\n",
    "            if self.overlap == 0:\n",
    "                print(\"기본적인 조합문제입니다.\")\n",
    "                if ver > self.len:\n",
    "                    print(str(self.len)+\"C\"+str(ver) +\"은 1이 답이되게 됩니다.\")\n",
    "                    return\n",
    "                else:\n",
    "                    print(str(self.len)+\"C\"+str(ver) + \"을 계산하면 되므로 정답은 \" + str(math.factorial(self.len)/math.factorial(self.len-ver)/math.factorial(ver)) +\"입니다.\")\n",
    "            else:\n",
    "                print(\"중복조합 문제입니다.\")\n",
    "                print(str(self.len)+\"H\"+str(ver) + \"을 계산하면 되므로 \" +str(self.len+ver-1) + \"C\" + str(ver) +\"와 같습니다.\")\n",
    "                print(\"따라서 정답은 \" + str(math.factorial(self.len+ver-1)/math.factorial(self.len-1)/math.factorial(ver)) +\"입니다.\")\n",
    "    def change_circle(self):\n",
    "        self.circle ^= 1\n",
    "    #plus\n",
    "    def change_overlap(self):\n",
    "        self.overlap ^= 1\n",
    "        \n",
    "    def change_len(self,how):\n",
    "        self.len += how\n",
    "        if self.len<0:\n",
    "            self.len -= how\n",
    "            print(\"len이 0보다 작을 수는 없습니다.\")\n",
    "    def set_same(self,a,b):\n",
    "        print(\"attatch  조건이 삭제됩니다.\")\n",
    "        self.attatch = []\n",
    "        self.same = [a,b]\n",
    "    def set_attatch(self,a,b):\n",
    "        print(\"same  조건이 삭제됩니다.\")\n",
    "        self.attatch.append([a,b])\n",
    "        self.same = []\n",
    "    #def plus_\n",
    "    #Show\n",
    "    def show_name(self):\n",
    "        return self.name\n",
    "    def show_attatch(self):\n",
    "        return self.atattch\n",
    "    def show_big(self):\n",
    "        return self.big\n",
    "    def show_special(self):\n",
    "        return self.special_code\n",
    "    #length\n",
    "    def len_attatch(self):\n",
    "        return len(self.atattch)\n",
    "    def len_big(self):\n",
    "        return len(self.big)\n",
    "    def len_special(self):\n",
    "        return len(self.special_code)\n",
    "    "
   ]
  },
  {
   "cell_type": "code",
   "execution_count": 88,
   "metadata": {},
   "outputs": [
    {
     "name": "stdout",
     "output_type": "stream",
     "text": [
      "okay wait...\n",
      "조합과 관련된 특수 조건은 무시됩니다.\n",
      "----------------------------------------------\n",
      "solution of alex\n",
      "다음은 순열 문제입니다.\n",
      "----------------------------------------------\n",
      "주어진 추가적인 특수조건은 없습니다.\n",
      "따라서 다음과 같이 12!의 식으로 계산하면\n",
      "정답은 12!=479001600이 나오게 됩니다.\n"
     ]
    }
   ],
   "source": [
    "ar = array(12,\"alex\")\n",
    "#ar.change_circle()\n",
    "ar.make_solution()"
   ]
  },
  {
   "cell_type": "code",
   "execution_count": 89,
   "metadata": {},
   "outputs": [
    {
     "name": "stdout",
     "output_type": "stream",
     "text": [
      "okay wait...\n",
      "조합과 관련된 특수 조건은 무시됩니다.\n",
      "----------------------------------------------\n",
      "solution of alex\n",
      "다음은 원순열 문제입니다.\n",
      "----------------------------------------------\n",
      "주어진 추가적인 특수조건은 없습니다.\n",
      "따라서 다음과 같이 12!/12의 식으로 계산하면\n",
      "정답은 11!=39916800이 나오게 됩니다.\n"
     ]
    }
   ],
   "source": [
    "ar = array(12,\"alex\")\n",
    "ar.change_circle()\n",
    "ar.make_solution()"
   ]
  },
  {
   "cell_type": "code",
   "execution_count": 90,
   "metadata": {},
   "outputs": [
    {
     "name": "stdout",
     "output_type": "stream",
     "text": [
      "attatch  조건이 삭제됩니다.\n",
      "okay wait...\n",
      "조합과 관련된 특수 조건은 무시됩니다.\n",
      "----------------------------------------------\n",
      "solution of alex\n",
      "다음은 순열 문제입니다.\n",
      "----------------------------------------------\n",
      "주어진 추가조건으로는\n",
      "같은것이 있는 순열:\n",
      "7개의 빨강공과5개의 파랑공을 배열하는 문제입니다.\n",
      "다음과 같습니다.\n",
      "----------------------------------------------\n",
      "같이 있는 순열은 대부분은 n!/(a!*b!)의 식으로 계산합니다.\n",
      "따라서 다음 문제도 12! / (7!5!)  처럼 계산이 가능합니다.\n",
      "정답은 792.0 입니다\n"
     ]
    }
   ],
   "source": [
    "ar = array(12,\"alex\")\n",
    "ar.set_same(7,5)\n",
    "ar.make_solution()"
   ]
  },
  {
   "cell_type": "code",
   "execution_count": 91,
   "metadata": {},
   "outputs": [
    {
     "name": "stdout",
     "output_type": "stream",
     "text": [
      "attatch  조건이 삭제됩니다.\n",
      "okay wait...\n",
      "조합과 관련된 특수 조건은 무시됩니다.\n",
      "----------------------------------------------\n",
      "solution of alex\n",
      "다음은 원순열 문제입니다.\n",
      "----------------------------------------------\n",
      "주어진 추가조건으로는\n",
      "같은것이 있는 순열:\n",
      "7개의 빨강공과5개의 파랑공을 배열하는 문제입니다.\n",
      "다음과 같습니다.\n",
      "----------------------------------------------\n",
      "원순열에서 같은 것이 있는 순열은 비대칭 순열과 점대칭 순열을 나누어 생각해주어야 합니다.\n",
      "둘의 최대공약수가 1이므로 점대칭 순열은 고려하지 않아도 됩니다.\n",
      "따라서 다음 문제는 (12! / (7!5!) / 12 처럼 계산이 가능합니다.\n",
      "정답은 66.0 입니다\n"
     ]
    }
   ],
   "source": [
    "ar = array(12,\"alex\")\n",
    "ar.change_circle()\n",
    "ar.set_same(7,5)\n",
    "ar.make_solution()"
   ]
  },
  {
   "cell_type": "code",
   "execution_count": 92,
   "metadata": {},
   "outputs": [
    {
     "name": "stdout",
     "output_type": "stream",
     "text": [
      "same  조건이 삭제됩니다.\n",
      "okay wait...\n",
      "조합과 관련된 특수 조건은 무시됩니다.\n",
      "----------------------------------------------\n",
      "solution of alex\n",
      "다음은 원순열 문제입니다.\n",
      "----------------------------------------------\n",
      "주어진 추가조건으로는\n",
      "n번째와 t번째가 항상 붙어있어야 하는 순열:\n",
      "8 와(과) 4이 배열시 붙어있어야 합니다.\n",
      "다음과 같습니다.\n",
      "----------------------------------------------\n",
      "특정한 원소끼리 붙어있어야 하는 문제 유형은 다음과같이 해결합니다.\n",
      "특정한 원소두개를 하나의 원소로 취급하고 배열합니다.\n",
      "최종적으로 배열한후 두개의 원소가 위치가 바뀌는 경우를 카운팅하여 *2를 해줍니다.\n",
      "또한 원순열이므로 전체 길이(하나의 원소로 취급한후) 로 나누어 줍니다.\n",
      "따라서 (12-1)! /11 * 2^1로 계산가능합니다\n",
      "정답은7257600\n"
     ]
    }
   ],
   "source": [
    "ar = array(12,\"alex\")\n",
    "ar.change_circle()\n",
    "ar.set_attatch(8,4)\n",
    "ar.make_solution()"
   ]
  },
  {
   "cell_type": "code",
   "execution_count": 93,
   "metadata": {},
   "outputs": [
    {
     "name": "stdout",
     "output_type": "stream",
     "text": [
      "same  조건이 삭제됩니다.\n",
      "okay wait...\n",
      "조합과 관련된 특수 조건은 무시됩니다.\n",
      "----------------------------------------------\n",
      "solution of alex\n",
      "다음은 순열 문제입니다.\n",
      "----------------------------------------------\n",
      "주어진 추가조건으로는\n",
      "n번째와 t번째가 항상 붙어있어야 하는 순열:\n",
      "8 와(과) 4이 배열시 붙어있어야 합니다.\n",
      "다음과 같습니다.\n",
      "----------------------------------------------\n",
      "특정한 원소끼리 붙어있어야 하는 문제 유형은 다음과같이 해결합니다.\n",
      "특정한 원소두개를 하나의 원소로 취급하고 배열합니다.\n",
      "최종적으로 배열한후 두개의 원소가 위치가 바뀌는 경우를 카운팅하여 *2를 해줍니다.\n",
      "\n",
      "따라서 (12-1)! * 2^1로 계산가능합니다\n",
      "정답은79833600\n"
     ]
    }
   ],
   "source": [
    "ar = array(12,\"alex\")\n",
    "ar.set_attatch(8,4)\n",
    "ar.make_solution()"
   ]
  },
  {
   "cell_type": "code",
   "execution_count": 94,
   "metadata": {},
   "outputs": [
    {
     "name": "stdout",
     "output_type": "stream",
     "text": [
      "same  조건이 삭제됩니다.\n",
      "okay wait...\n",
      "----------------------------------------------\n",
      "solution of alex\n",
      "배열과 관련된 특수 조건은 무시됩니다.\n",
      "기본적인 조합문제입니다.\n",
      "12C5을 계산하면 되므로 정답은 792.0입니다.\n"
     ]
    }
   ],
   "source": [
    "ar = array(12,\"alex\")\n",
    "ar.set_attatch(8,4)\n",
    "ar.make_solution_choose(5)"
   ]
  },
  {
   "cell_type": "code",
   "execution_count": 95,
   "metadata": {},
   "outputs": [
    {
     "name": "stdout",
     "output_type": "stream",
     "text": [
      "same  조건이 삭제됩니다.\n",
      "okay wait...\n",
      "----------------------------------------------\n",
      "solution of alex\n",
      "배열과 관련된 특수 조건은 무시됩니다.\n",
      "중복조합 문제입니다.\n",
      "12H5을 계산하면 되므로 16C5와 같습니다.\n",
      "따라서 정답은 4368.0입니다.\n"
     ]
    }
   ],
   "source": [
    "ar = array(12,\"alex\")\n",
    "ar.set_attatch(8,4)\n",
    "ar.change_overlap()\n",
    "ar.make_solution_choose(5)"
   ]
  },
  {
   "cell_type": "code",
   "execution_count": null,
   "metadata": {},
   "outputs": [],
   "source": []
  },
  {
   "cell_type": "code",
   "execution_count": null,
   "metadata": {},
   "outputs": [],
   "source": []
  }
 ],
 "metadata": {
  "kernelspec": {
   "display_name": "Python 3",
   "language": "python",
   "name": "python3"
  },
  "language_info": {
   "codemirror_mode": {
    "name": "ipython",
    "version": 3
   },
   "file_extension": ".py",
   "mimetype": "text/x-python",
   "name": "python",
   "nbconvert_exporter": "python",
   "pygments_lexer": "ipython3",
   "version": "3.7.1"
  }
 },
 "nbformat": 4,
 "nbformat_minor": 2
}
