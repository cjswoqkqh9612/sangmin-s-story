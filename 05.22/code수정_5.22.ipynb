{
 "cells": [
  {
   "cell_type": "code",
   "execution_count": 1,
   "metadata": {},
   "outputs": [],
   "source": [
    "import math\n",
    "class array:\n",
    "    def __init__(self,length,name = \"array\"):\n",
    "        # 베열 조건\n",
    "        self.attatch = []\n",
    "        self.big = []\n",
    "        # 조합 조건\n",
    "        self.same = []\n",
    "        # 공통 조건\n",
    "        self.circle = 0\n",
    "        self.len = length\n",
    "        self.special_code = []\n",
    "        self.special_array = []\n",
    "        self.name = name\n",
    "    #배열 문제일시 해결법 제시\n",
    "    def make_solve(self):\n",
    "        if len(self.special_code):\n",
    "            print(\"if you plus special code, we can't make sove\")\n",
    "            print(\"----------------------------------------------\")\n",
    "        else:\n",
    "            print(\"okay wait...\")\n",
    "            print(\"----------------------------------------------\")\n",
    "            print(\"solution of \" + self.name)\n",
    "            print(\"다음은 \" + \"원\" * self.circle + \"순열 문제입니다.\")\n",
    "            if len(self.same) + len(self.big) + len(self.attatch):\n",
    "                print(\"주어진 추가조건으로는\\n\")\n",
    "                print(\"같은것이 있는 순열: \"+ \" \" + \"\\n\" * self.same)\n",
    "                print(\"같은것이 있는 순열: \"+ \" \" + \"\\n\" * self.big)\n",
    "            else:\n",
    "                print(\"주어진 추가적인 특수조건은 없습니다.\")\n",
    "            if self.circle:\n",
    "                plus_var = 1\n",
    "                if len(self.same):\n",
    "                    plus_var = find_중복_shape(self.len,self.circle)\n",
    "            print(\"따라서 다음과 같이 \" + str(self.len) + \"!\" + (\"/\" + str(self.len)) *self.circle +\"의 식으로 계산하면\")\n",
    "            print(\"정답은 \" + str(self.len-self.circle) + \"!\" + \"=\" + str(math.factorial(self.len-self.circle)) + \"이 나오게 됩니다.\")\n",
    "    #조합 문제일시 해결법 제시\n",
    "    def make_solve_choose(ver, self):\n",
    "        if self.circle:\n",
    "            print(\"원순열에서는 선택을 실행할 수 없습니다.\")\n",
    "        else:\n",
    "            print(\"okay wait...\")\n",
    "            print(\"----------------------------------------------\")\n",
    "            print(\"solution of \" + self.name)\n",
    "            print(\"배열과 관련된 특수 조건은 무시됩니다.\")\n",
    "            \n",
    "    def change_circle(self):\n",
    "        self.circle ^= 1\n",
    "    #plus\n",
    "    def plus_len(self,how):\n",
    "        self.len += how\n",
    "    #def plus_\n",
    "    #Show\n",
    "    def show_name(self):\n",
    "        return self.name\n",
    "    def show_attatch(self):\n",
    "        return self.atattch\n",
    "    def show_big(self):\n",
    "        return self.big\n",
    "    def show_special(self):\n",
    "        return self.special_code\n",
    "    #length\n",
    "    def len_attatch(self):\n",
    "        return len(self.atattch)\n",
    "    def len_big(self):\n",
    "        return len(self.big)\n",
    "    def len_special(self):\n",
    "        return len(self.special_code)\n",
    "    "
   ]
  },
  {
   "cell_type": "code",
   "execution_count": 2,
   "metadata": {},
   "outputs": [
    {
     "name": "stdout",
     "output_type": "stream",
     "text": [
      "okay wait...\n",
      "----------------------------------------------\n",
      "solution of alex\n",
      "다음은 순열 문제입니다.\n",
      "주어진 추가적인 특수조건은 없습니다.\n",
      "따라서 다음과 같이 12!의 식으로 계산하면\n",
      "정답은 12!=479001600이 나오게 됩니다.\n"
     ]
    }
   ],
   "source": [
    "ar = array(12,\"alex\")\n",
    "#ar.change_circle()\n",
    "ar.make_solve()"
   ]
  },
  {
   "cell_type": "code",
   "execution_count": 3,
   "metadata": {},
   "outputs": [
    {
     "name": "stdout",
     "output_type": "stream",
     "text": [
      "okay wait...\n",
      "----------------------------------------------\n",
      "solution of alex\n",
      "다음은 원순열 문제입니다.\n",
      "주어진 추가적인 특수조건은 없습니다.\n",
      "따라서 다음과 같이 12!/12의 식으로 계산하면\n",
      "정답은 11!=39916800이 나오게 됩니다.\n"
     ]
    }
   ],
   "source": [
    "ar = array(12,\"alex\")\n",
    "ar.change_circle()\n",
    "ar.make_solve()"
   ]
  },
  {
   "cell_type": "code",
   "execution_count": null,
   "metadata": {},
   "outputs": [],
   "source": []
  }
 ],
 "metadata": {
  "kernelspec": {
   "display_name": "Python 3",
   "language": "python",
   "name": "python3"
  },
  "language_info": {
   "codemirror_mode": {
    "name": "ipython",
    "version": 3
   },
   "file_extension": ".py",
   "mimetype": "text/x-python",
   "name": "python",
   "nbconvert_exporter": "python",
   "pygments_lexer": "ipython3",
   "version": "3.7.1"
  }
 },
 "nbformat": 4,
 "nbformat_minor": 2
}
